{
 "cells": [
  {
   "cell_type": "markdown",
   "metadata": {},
   "source": [
    "## 🐍 Python for Beginners\n",
    " Welcome to the world of Python! \n",
    "\n",
    " This tutorial is designed to make learning Python fun and interactive. We'll use Jupyter Notebook to write and run Python code. Jupyter Notebook is a great tool for beginners because it allows you to write code, see the output, and add explanations all in one place."
   ]
  },
  {
   "attachments": {
    "image.png": {
     "image/png": "[encoded data removed]"
    }
   },
   "cell_type": "markdown",
   "metadata": {},
   "source": [
    "![image.png](attachment:image.png)\n",
    "\n",
    "## Table of Contents \n",
    "\n",
    "  1. Installing Python \n",
    "  2. Your First Python Program\n",
    "  3. Variables and Data Types\n",
    "  4. Input and Output\n",
    "  5. Operators\n",
    "  6. Conditional Statements\n",
    "  7. Loops\n",
    "  8. Lists and Tuples\n",
    "   9. Dictionaries\n",
    "   10. Functions\n",
    "   11. File Handling\n",
    "   12. Error Handling\n",
    "\n",
    "Next Steps"
   ]
  },
  {
   "cell_type": "markdown",
   "metadata": {},
   "source": [
    "\n",
    "  # 1.Installing Python 🧑‍💻\n",
    "  Before you start coding, you need to install Python on your computer.\n",
    "\n",
    "  steps: \n",
    "  1. Go to the official Python website: python.org.\n",
    "\n",
    "  2. Download the latest version of Python (Python 3.x).\n",
    "\n",
    "  3. Run the installer and make sure to check the box that says \"Add Python to PATH\".\n",
    "\n",
    "  4. Complete the installation.\n",
    "\n",
    "# Verify Installation:\n",
    "  Open your terminal or command prompt and type:\n",
    "  type : python --version"
   ]
  },
  {
   "cell_type": "markdown",
   "metadata": {},
   "source": [
    "# 2. Your First Python Program 🚀\n",
    "Let’s write your first Python program: \"Hello, World!\"\n",
    "\n",
    "Open a text editor (like Notepad, VS Code, or PyCharm).\n",
    "\n",
    "Write the following code"
   ]
  },
  {
   "cell_type": "code",
   "execution_count": null,
   "metadata": {},
   "outputs": [],
   "source": [
    "print(\"Hello, World!\")"
   ]
  },
  {
   "cell_type": "markdown",
   "metadata": {},
   "source": [
    "Save the file with a .py extension, e.g., hello.py.\n",
    "\n",
    "Run the program by typing in the terminal:"
   ]
  },
  {
   "cell_type": "markdown",
   "metadata": {},
   "source": [
    "python hello.py"
   ]
  },
  {
   "cell_type": "markdown",
   "metadata": {},
   "source": [
    "Output: Hello, World!      --- Great JOB you wrote your first program more to go"
   ]
  },
  {
   "cell_type": "markdown",
   "metadata": {},
   "source": [
    "# 3. Variables and Data Types 📦\n",
    "Variables are used to store data. Python supports various data types, such as integers, floats, strings, and booleans."
   ]
  },
  {
   "cell_type": "code",
   "execution_count": 1,
   "metadata": {},
   "outputs": [
    {
     "name": "stdout",
     "output_type": "stream",
     "text": [
      "Alice\n",
      "25\n",
      "5.6\n",
      "True\n"
     ]
    }
   ],
   "source": [
    "# Variables\n",
    "name = \"Alice\"  # String\n",
    "age = 25        # Integer\n",
    "height = 5.6    # Float\n",
    "is_student = True  # Boolean\n",
    "\n",
    "# Printing variables\n",
    "print(name)\n",
    "print(age)\n",
    "print(height)\n",
    "print(is_student)"
   ]
  },
  {
   "cell_type": "markdown",
   "metadata": {},
   "source": [
    "# 4. Input and Output🖊️\n",
    "You can take input from the user using the input() function and display output using print()."
   ]
  },
  {
   "cell_type": "code",
   "execution_count": null,
   "metadata": {},
   "outputs": [],
   "source": [
    "# Taking input\n",
    "name = input(\"Enter your name: \")\n",
    "age = input(\"Enter your age: \")\n",
    "\n",
    "# Displaying output\n",
    "print(\"Hello,\", name)\n",
    "print(\"You are\", age, \"years old.\")"
   ]
  },
  {
   "cell_type": "markdown",
   "metadata": {},
   "source": [
    "# 5. Operators ➕➖✖️➗\n",
    "Python supports various operators for performing operations\n",
    "## Types of Operators:\n",
    " 1.  Arithmetic Operators: +, -, *, /, %, ** (exponent), // (floor division)\n",
    " 2. Comparison Operators: ==, !=, >, <, >=, <=\n",
    " 3. Logical Operators: and, or, not"
   ]
  },
  {
   "cell_type": "code",
   "execution_count": null,
   "metadata": {},
   "outputs": [],
   "source": [
    "a = 10\n",
    "b = 3\n",
    "\n",
    "print(a + b)  # Addition\n",
    "print(a > b)  # Comparison\n",
    "print(a > 5 and b < 5)  # Logical"
   ]
  },
  {
   "cell_type": "markdown",
   "metadata": {},
   "source": [
    "# 6. Conditional Statements 🤔\n",
    "Conditional statements allow you to execute code based on certain conditions."
   ]
  },
  {
   "cell_type": "code",
   "execution_count": null,
   "metadata": {},
   "outputs": [],
   "source": [
    "age = 18\n",
    "\n",
    "if age >= 18:\n",
    "    print(\"You are an adult.\")\n",
    "elif age >= 13:\n",
    "    print(\"You are a teenager.\")\n",
    "else:\n",
    "    print(\"You are a child.\")"
   ]
  },
  {
   "cell_type": "markdown",
   "metadata": {},
   "source": [
    "# 7. Loops 🔄\n",
    "Loops are used to repeat a block of code."
   ]
  },
  {
   "cell_type": "markdown",
   "metadata": {},
   "source": [
    "for Loop:"
   ]
  },
  {
   "cell_type": "code",
   "execution_count": 2,
   "metadata": {},
   "outputs": [
    {
     "name": "stdout",
     "output_type": "stream",
     "text": [
      "0\n",
      "1\n",
      "2\n",
      "3\n",
      "4\n"
     ]
    }
   ],
   "source": [
    "for i in range(5):  # Prints numbers 0 to 4\n",
    "    print(i)"
   ]
  },
  {
   "cell_type": "markdown",
   "metadata": {},
   "source": [
    "while loop"
   ]
  },
  {
   "cell_type": "code",
   "execution_count": null,
   "metadata": {},
   "outputs": [],
   "source": [
    "count = 0\n",
    "while count < 5:\n",
    "    print(count)\n",
    "    count += 1"
   ]
  },
  {
   "cell_type": "markdown",
   "metadata": {},
   "source": [
    "# 8. Lists and Tuples 📋\n",
    "Lists and tuples are used to store collections of items"
   ]
  },
  {
   "cell_type": "markdown",
   "metadata": {},
   "source": [
    "Lists(mutable)"
   ]
  },
  {
   "cell_type": "code",
   "execution_count": null,
   "metadata": {},
   "outputs": [],
   "source": [
    "fruits = [\"apple\", \"banana\", \"cherry\"]\n",
    "fruits.append(\"orange\")  # Add an item\n",
    "print(fruits[0])  # Access first item"
   ]
  },
  {
   "cell_type": "markdown",
   "metadata": {},
   "source": [
    "Tuples(Immutable)"
   ]
  },
  {
   "cell_type": "code",
   "execution_count": null,
   "metadata": {},
   "outputs": [],
   "source": [
    "colors = (\"red\", \"green\", \"blue\")\n",
    "print(colors[1])  # Access second item"
   ]
  },
  {
   "cell_type": "markdown",
   "metadata": {},
   "source": [
    "# 9. Dictionaries 📚\n",
    "Dictionaries store data in key-value pairs."
   ]
  },
  {
   "cell_type": "code",
   "execution_count": null,
   "metadata": {},
   "outputs": [],
   "source": [
    "person = {\n",
    "    \"name\": \"Alice\",\n",
    "    \"age\": 25,\n",
    "    \"is_student\": True\n",
    "}\n",
    "\n",
    "print(person[\"name\"])  # Access value by key\n",
    "person[\"age\"] = 26  # Update value"
   ]
  },
  {
   "cell_type": "markdown",
   "metadata": {},
   "source": [
    "# 10. Functions 📜\n",
    "Functions are reusable blocks of code. You can define a function using the def keyword"
   ]
  },
  {
   "cell_type": "code",
   "execution_count": null,
   "metadata": {},
   "outputs": [],
   "source": [
    "def greet(name):\n",
    "    print(\"Hello,\", name)\n",
    "\n",
    "greet(\"Alice\")\n",
    "greet(\"Bob\")"
   ]
  },
  {
   "cell_type": "markdown",
   "metadata": {},
   "source": [
    "# 11. File Handling 📂\n",
    "You can read from and write to files in Python."
   ]
  },
  {
   "cell_type": "code",
   "execution_count": null,
   "metadata": {},
   "outputs": [],
   "source": [
    "with open(\"example.txt\", \"w\") as file:\n",
    "    file.write(\"Hello, World!\")"
   ]
  },
  {
   "cell_type": "markdown",
   "metadata": {},
   "source": [
    "# 12. Error Handling ❌\n",
    "Use try and except to handle errors gracefully."
   ]
  },
  {
   "cell_type": "code",
   "execution_count": null,
   "metadata": {},
   "outputs": [],
   "source": [
    "try:\n",
    "    num = int(input(\"Enter a number: \"))\n",
    "    print(10 / num)\n",
    "except ZeroDivisionError:\n",
    "    print(\"You cannot divide by zero!\")\n",
    "except ValueError:\n",
    "    print(\"Invalid input! Please enter a number.\")"
   ]
  },
  {
   "cell_type": "markdown",
   "metadata": {},
   "source": [
    "# Next Steps:  🚀🚀\n",
    "  Now that you’ve learned the basics, here are some next steps:\n",
    "  * Explore Python libraries like numpy, pandas, and matplotlib.\n",
    "  * Build small projects like a calculator, to-do list, or a simple game.\n",
    "  * Learn about object-oriented programming (OOP) in Python.\n",
    "  * Practice coding on platforms like LeetCode or HackerRank."
   ]
  },
  {
   "cell_type": "markdown",
   "metadata": {},
   "source": [
    "Happy coding!🎉🎉🎉\n",
    "\n",
    "NEXT CHECKOUT THE data_types.ipynb"
   ]
  }
 ],
 "metadata": {
  "kernelspec": {
   "display_name": "Python 3",
   "language": "python",
   "name": "python3"
  },
  "language_info": {
   "codemirror_mode": {
    "name": "ipython",
    "version": 3
   },
   "file_extension": ".py",
   "mimetype": "text/x-python",
   "name": "python",
   "nbconvert_exporter": "python",
   "pygments_lexer": "ipython3",
   "version": "3.12.8"
  }
 },
 "nbformat": 4,
 "nbformat_minor": 2
}
